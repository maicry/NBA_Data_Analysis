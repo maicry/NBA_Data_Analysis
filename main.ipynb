{
 "cells": [
  {
   "cell_type": "code",
   "execution_count": null,
   "metadata": {},
   "outputs": [],
   "source": [
    "# 逻辑回归 位于main.ipynb文件 第10个代码块中"
   ]
  },
  {
   "cell_type": "markdown",
   "metadata": {},
   "source": [
    "# 导入本程序所需要的库"
   ]
  },
  {
   "cell_type": "code",
   "execution_count": null,
   "metadata": {
    "pycharm": {
     "is_executing": true
    }
   },
   "outputs": [],
   "source": [
    "import csv\n",
    "import pandas as pd\n",
    "import math\n",
    "import numpy as np\n",
    "import matplotlib.pyplot as plt\n",
    "from sklearn.svm import SVC\n",
    "import seaborn as sns\n",
    "import random\n",
    "from sklearn import linear_model\n",
    "from sklearn.model_selection import cross_val_score\n",
    "from sklearn.model_selection import learning_curve\n",
    "from sklearn.datasets import make_classification"
   ]
  },
  {
   "cell_type": "markdown",
   "metadata": {},
   "source": [
    "# 初始化列表数据等，以备使用"
   ]
  },
  {
   "cell_type": "code",
   "execution_count": null,
   "metadata": {},
   "outputs": [],
   "source": [
    "base_elo_ratings = 1600\n",
    "team_stats = {}  # Recent Team Performance\n",
    "team_elo_ratings = {}  # Elo等级分制度(Elo Ratings)\n",
    "x = []\n",
    "y = []"
   ]
  },
  {
   "cell_type": "markdown",
   "metadata": {},
   "source": [
    "# 定义函数：读取csv文件中的球队数据，将其导入至变量中"
   ]
  },
  {
   "cell_type": "code",
   "execution_count": null,
   "metadata": {},
   "outputs": [],
   "source": [
    "def get_raw_data(Mstat, Ostat, Tstat):\n",
    "    new_Mstat = Mstat.drop(['Rk', 'Arena'], axis=1)\n",
    "    new_Ostat = Ostat.drop(['Rk', 'G', 'MP'], axis=1)\n",
    "    new_Tstat = Tstat.drop(['Rk', 'G', 'MP'], axis=1)\n",
    "\n",
    "    team_stats1 = pd.merge(new_Mstat, new_Ostat, how='left', on='Team')\n",
    "    team_stats1 = pd.merge(team_stats1, new_Tstat, how='left', on='Team')\n",
    "    return team_stats1.set_index('Team', inplace=False, drop=True)"
   ]
  },
  {
   "cell_type": "markdown",
   "metadata": {},
   "source": [
    "# 定义函数：根据数据进行Elo等级分制度，获取每个团队的elo分数。"
   ]
  },
  {
   "cell_type": "code",
   "execution_count": null,
   "metadata": {},
   "outputs": [],
   "source": [
    "def get_team_elo(team):\n",
    "    try: \n",
    "        return team_elo_ratings[team]  # 根据分数赋予队伍elo rate\n",
    "    except:\n",
    "        team_elo_ratings[team] = base_elo_ratings  # 没有elo分数时，对每个队都赋予初始elo rate\n",
    "        return team_elo_ratings[team]"
   ]
  },
  {
   "cell_type": "markdown",
   "metadata": {},
   "source": [
    "# 定义函数：对每个队伍的成绩进行分级elo rating"
   ]
  },
  {
   "cell_type": "code",
   "execution_count": null,
   "metadata": {},
   "outputs": [],
   "source": [
    "def elo_rating(winner,loser):\n",
    "    winner_rank = get_team_elo(winner)\n",
    "    loser_rank = get_team_elo(loser)\n",
    "    rank_diff = winner_rank - loser_rank\n",
    "    exp = (rank_diff *- 1) / 400\n",
    "    odds = 1 / (1 + math.pow(10,exp))\n",
    "\n",
    "    # 根据排名调整K值\n",
    "    if winner_rank<2100:\n",
    "        k = 32\n",
    "    elif winner_rank >=2100 and winner_rank < 2400:\n",
    "        k = 24\n",
    "    else:\n",
    "        c=16\n",
    "        \n",
    "    # 更新排名值\n",
    "    new_winner_rank = round(winner_rank + (k * (1 - odds)))\n",
    "    new_loser_rank = round(loser_rank + (k * (0 - odds)))\n",
    "    return new_winner_rank,new_loser_rank"
   ]
  },
  {
   "cell_type": "markdown",
   "metadata": {},
   "source": [
    "# 定义函数：得到集合，将数据进行整合"
   ]
  },
  {
   "cell_type": "code",
   "execution_count": null,
   "metadata": {},
   "outputs": [],
   "source": [
    "def dataset(all_data):\n",
    "    print(\"Working on building data set.\")\n",
    "    skip = 0\n",
    "    for index, row in all_data.iterrows():\n",
    "        Wteam = row['WTeam']\n",
    "        Lteam = row['LTeam']\n",
    "\n",
    "        # 取每只队伍的elo值\n",
    "        team1_elo = get_team_elo(Wteam)\n",
    "        team2_elo = get_team_elo(Lteam)\n",
    "\n",
    "        # 主场占优，故加100elo分数\n",
    "        if row['WLoc'] == 'H':\n",
    "            team1_elo += 100\n",
    "        else:\n",
    "            team2_elo += 100\n",
    "\n",
    "        # 将elo值视为每支队伍的第一个特征值\n",
    "        team1_features = [team1_elo]\n",
    "        team2_features = [team2_elo]\n",
    "\n",
    "        # 考虑获得到的各项数据\n",
    "        for key, value in team_stats.loc[Wteam].iteritems():\n",
    "            team1_features.append(value)\n",
    "        for key, value in team_stats.loc[Lteam].iteritems():\n",
    "            team2_features.append(value)\n",
    "\n",
    "        # 将俩队特征值分别赋予两边\n",
    "        if random.random() > 0.5:\n",
    "            x.append(team1_features + team2_features)\n",
    "            y.append(0)\n",
    "        else:\n",
    "            x.append(team2_features + team1_features)\n",
    "            y.append(1)\n",
    "\n",
    "        if skip == 0:\n",
    "            print('x',x)\n",
    "            skip = 1\n",
    "\n",
    "        # 根据某一场比赛数据来更新队伍的elo值\n",
    "        new_winner_rank, new_loser_rank = elo_rating(Wteam,Lteam)\n",
    "        team_elo_ratings[Wteam] = new_winner_rank\n",
    "        team_elo_ratings[Lteam] = new_loser_rank\n",
    "    return np.nan_to_num(x),y"
   ]
  },
  {
   "cell_type": "markdown",
   "metadata": {},
   "source": [
    "# 定义函数：预测哪一个队伍会胜利"
   ]
  },
  {
   "cell_type": "code",
   "execution_count": null,
   "metadata": {},
   "outputs": [],
   "source": [
    "def who_win(teamA, teamB, model):\n",
    "    features = []\n",
    "    # 客队队伍A\n",
    "    features.append(get_team_elo(teamA))\n",
    "    for key, value in team_stats.loc[teamA].iteritems():\n",
    "        features.append(value)\n",
    "    # 主队队伍B\n",
    "    features.append(get_team_elo(teamB)+100)\n",
    "    for key, value in team_stats.loc[teamB].iteritems():\n",
    "        features.append(value)\n",
    "    features = np.nan_to_num(features)\n",
    "    return model.predict_proba([features])"
   ]
  },
  {
   "cell_type": "markdown",
   "metadata": {},
   "source": [
    "# 定义函数：绘制曲线"
   ]
  },
  {
   "cell_type": "code",
   "execution_count": null,
   "metadata": {},
   "outputs": [],
   "source": [
    "def plot_learning_curve():\n",
    "    data_x, data_y = make_classification(n_samples=1400, n_classes=5, n_features=10, n_informative=8)  # 生成分类任务\n",
    "    # 绘制学习曲线\n",
    "    model = SVC(kernel=\"linear\")\n",
    "    train_sizes, train_scores, valid_scores = learning_curve(model, data_x, data_y, train_sizes=np.linspace(0.1, 1.0, 10), cv=5, random_state=0)\n",
    "    train_scores_mean = np.mean(train_scores, axis=1)\n",
    "    valid_scores_mean = np.mean(valid_scores, axis=1)\n",
    "    # 开始绘图\n",
    "    sns.set()\n",
    "    sns.lineplot(x=train_sizes, y=train_scores_mean, label=\"Traning score\")\n",
    "    sns.lineplot(x=train_sizes, y=valid_scores_mean, label=\"Cross-Validation score\")\n",
    "    plt.xlabel(\"Traning examples\")\n",
    "    plt.ylabel(\"Score\")\n",
    "    plt.title(\"Learning Curve\")\n",
    "    plt.show()"
   ]
  },
  {
   "cell_type": "markdown",
   "metadata": {},
   "source": [
    "# main函数：使用该模型来判断一场新的比赛并返回其获胜的概率"
   ]
  },
  {
   "cell_type": "code",
   "execution_count": null,
   "metadata": {},
   "outputs": [],
   "source": [
    "if __name__ == '__main__':\n",
    "    Mstat = pd.read_csv(\"2018-2019Miscellaneous Stats.csv\")\n",
    "    Ostat = pd.read_csv(\"2018-2019Opponent Per Game Stats.csv\")\n",
    "    Tstat = pd.read_csv(\"2018-2019Team Per Game Stats.csv\")\n",
    "\n",
    "    team_stats = get_raw_data(Mstat, Ostat, Tstat)\n",
    "    result_data = pd.read_csv(\"2018-2019_result.csv\")\n",
    "    x, y = dataset(result_data)\n",
    "\n",
    "    # 训练网络模型\n",
    "    # print(\"Fitting on %d game Samples.\" % len(x))\n",
    "    model = linear_model.LogisticRegression()\n",
    "    model.fit(x,y)\n",
    "\n",
    "    # 使用 10% 交叉验证计算训练准确率\n",
    "    '''\n",
    "    print(\"Doing cross-validation.\")\n",
    "    print(cross_val_score(model, x, y, cv = 10, scoring='accuracy', n_jobs = -1).mean())\n",
    "    print(\"predicting on new schedule\")\n",
    "    '''\n",
    "    schedule1920 = pd.read_csv(\"2019-2020_schedule.csv\")\n",
    "    result = []\n",
    "    for index, row in schedule1920.iterrows():\n",
    "        teamA = row[\"Vteam\"]\n",
    "        teamB = row[\"Hteam\"]\n",
    "        pred = who_win(teamA, teamB, model)\n",
    "        prob = pred[0][0]\n",
    "        if prob > 0.5:\n",
    "            winner = teamA\n",
    "            loser =teamB\n",
    "            result.append([winner, loser, prob])\n",
    "        else:\n",
    "            winner = teamB\n",
    "            loser = teamA\n",
    "            result.append([winner, loser, 1-prob])\n",
    "\n",
    "    with open(\"19-20Result.csv\",'w') as f:\n",
    "        writer = csv.writer(f)\n",
    "        writer.writerow(['win', 'lose', 'probability'])\n",
    "        writer.writerows(result)\n",
    "        print('done')"
   ]
  },
  {
   "cell_type": "markdown",
   "metadata": {},
   "source": [
    "# 绘制曲线并将结果可视化"
   ]
  },
  {
   "cell_type": "code",
   "execution_count": null,
   "metadata": {},
   "outputs": [],
   "source": [
    "plot_learning_curve()\n",
    "pd.read_csv('19-20Result.csv',header=0)"
   ]
  }
 ],
 "metadata": {
  "kernelspec": {
   "display_name": "Python 3.10.5 64-bit",
   "language": "python",
   "name": "python3"
  },
  "language_info": {
   "codemirror_mode": {
    "name": "ipython",
    "version": 3
   },
   "file_extension": ".py",
   "mimetype": "text/x-python",
   "name": "python",
   "nbconvert_exporter": "python",
   "pygments_lexer": "ipython3",
   "version": "3.10.5"
  },
  "vscode": {
   "interpreter": {
    "hash": "7e1998ff7f8aa20ada591c520b972326324e5ea05489af9e422744c7c09f6dad"
   }
  }
 },
 "nbformat": 4,
 "nbformat_minor": 0
}
